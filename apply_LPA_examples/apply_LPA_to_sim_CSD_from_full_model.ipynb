{
 "cells": [
  {
   "cell_type": "code",
   "execution_count": 1,
   "metadata": {},
   "outputs": [],
   "source": [
    "%load_ext autoreload\n",
    "%autoreload 2"
   ]
  },
  {
   "cell_type": "code",
   "execution_count": 2,
   "metadata": {},
   "outputs": [],
   "source": [
    "import matplotlib.pyplot as plt\n",
    "import numpy as np\n",
    "import os, sys\n",
    "from glob import glob\n",
    "from scipy.ndimage import gaussian_filter1d\n",
    "from scipy.ndimage import gaussian_filter\n",
    "import h5py\n",
    "import quantities as pq\n",
    "\n",
    "sys.path.append('../scripts/')\n",
    "from LPA import LPA_Signal\n",
    "\n",
    "sys.path.append('../scripts/icsd_scripts/')\n",
    "from data_processing_before_lpa import *\n",
    "\n",
    "%config Completer.use_jedi = False"
   ]
  },
  {
   "cell_type": "code",
   "execution_count": 3,
   "metadata": {},
   "outputs": [],
   "source": [
    "sim_data_dir = '../data/sim_data/'\n",
    "fig_dir = 'Figures/test_notebooks'"
   ]
  },
  {
   "cell_type": "code",
   "execution_count": 4,
   "metadata": {},
   "outputs": [],
   "source": [
    "# for plotting\n",
    "plt.rcParams.update({'font.size': 16})"
   ]
  },
  {
   "cell_type": "code",
   "execution_count": null,
   "metadata": {},
   "outputs": [],
   "source": []
  },
  {
   "cell_type": "markdown",
   "metadata": {},
   "source": [
    "## Load simulation data"
   ]
  },
  {
   "cell_type": "code",
   "execution_count": 5,
   "metadata": {},
   "outputs": [],
   "source": [
    "nchan_sim = 26                                          # Number of channels on probe in simulation\n",
    "\n",
    "trial_dur_sim = 750                                     # Duration one trial (ms)\n",
    "tstim_onset_sim = 250\n",
    "tstim_onset_sim_dg = 500\n",
    "trial_dur_sim_dg = 3000\n",
    "ntrials_sim = 10                                        # Number of trials\n",
    "t_rem_trial_start = 50\n",
    "\n",
    "trial_dur_sim_corr = trial_dur_sim-t_rem_trial_start\n",
    "trial_dur_sim_dg_corr = 3000-t_rem_trial_start\n",
    "tstim_onset_sim = tstim_onset_sim-t_rem_trial_start\n",
    "tstim_onset_sim_dg = tstim_onset_sim_dg-t_rem_trial_start\n",
    "\n",
    "channel = np.arange(nchan_sim)"
   ]
  },
  {
   "cell_type": "code",
   "execution_count": null,
   "metadata": {},
   "outputs": [],
   "source": []
  },
  {
   "cell_type": "markdown",
   "metadata": {},
   "source": [
    "## Load simulation LFP"
   ]
  },
  {
   "cell_type": "code",
   "execution_count": 51,
   "metadata": {},
   "outputs": [],
   "source": [
    "lfp_sims_all_stim = dict()"
   ]
  },
  {
   "cell_type": "markdown",
   "metadata": {},
   "source": [
    "#### Flashes"
   ]
  },
  {
   "cell_type": "code",
   "execution_count": 9,
   "metadata": {},
   "outputs": [
    {
     "name": "stdout",
     "output_type": "stream",
     "text": [
      "dict_keys(['full_model_white_flash', 'full_model_black_flash'])\n"
     ]
    }
   ],
   "source": [
    "selected_sims_data_dir = os.path.join(sim_data_dir, '*full_model*')\n",
    "\n",
    "lfp_sims = find_files(selected_sims_data_dir, filename = 'lfp_w_baseline.npy')\n",
    "        \n",
    "if len(lfp_sims.keys()) == 1:\n",
    "    sim_name = list(lfp_sims.keys())[0]\n",
    "elif len(lfp_sims.keys()) > 1:\n",
    "    sim_names = list(lfp_sims.keys())\n",
    "    sim_name = sim_names[0]\n",
    "print(lfp_sims.keys())\n",
    "\n",
    "lfp_sims_all_stim = dict()\n",
    "    \n",
    "for sim_name in list(lfp_sims.keys()):\n",
    "    lfp_sims_all_stim_temp = dict()\n",
    "    lfp_sims_all_stim_temp['all_trials'] = lfp_sims[sim_name]['all_trials']#[:,:,tstim_onset_sim:]\n",
    "    lfp_sims_all_stim_temp['trial_avg'] = lfp_sims[sim_name]['trial_avg']#[:,tstim_onset_sim:]\n",
    "    lfp_sims_all_stim[sim_name] = lfp_sims_all_stim_temp"
   ]
  },
  {
   "cell_type": "code",
   "execution_count": null,
   "metadata": {},
   "outputs": [],
   "source": []
  },
  {
   "cell_type": "markdown",
   "metadata": {},
   "source": [
    "### Compute CSD"
   ]
  },
  {
   "cell_type": "code",
   "execution_count": 18,
   "metadata": {},
   "outputs": [
    {
     "name": "stdout",
     "output_type": "stream",
     "text": [
      "full_model_white_flash\n",
      "full_model_black_flash\n"
     ]
    }
   ],
   "source": [
    "nchan_lim = 22; nstim = 2; ntime = 700\n",
    "\n",
    "method='DeltaiCSD'\n",
    "\n",
    "#csd_for_lpa = np.zeros((nstim, nchan, ntime))\n",
    "csd_for_lpa = np.zeros((nstim, nchan_lim, ntime))\n",
    "\n",
    "csd_sims = dict()\n",
    "for isim, sim_name in enumerate(lfp_sims_all_stim.keys()):\n",
    "    print(sim_name)\n",
    "    lfp_temp = lfp_sims_all_stim[sim_name]['trial_avg'][:nchan_lim]\n",
    "    \n",
    "    csd_temp = compute_csd(lfp_temp, method = 'delta', h = 40*1E-6*pq.m, gauss_filter = (1.4,0),\n",
    "                        coord_electrodes = np.linspace(0,840E-6, lfp_temp.shape[0]) * pq.m)\n",
    "    \n",
    "    csd_for_lpa[isim] = csd_temp\n",
    "    \n",
    "    csd_sims[sim_name] = csd_temp"
   ]
  },
  {
   "cell_type": "code",
   "execution_count": null,
   "metadata": {},
   "outputs": [],
   "source": []
  },
  {
   "cell_type": "markdown",
   "metadata": {},
   "source": [
    "# Organize model population firing rate matrix to use for decomposition"
   ]
  },
  {
   "cell_type": "markdown",
   "metadata": {},
   "source": [
    "### Load spikes from flash simulations"
   ]
  },
  {
   "cell_type": "code",
   "execution_count": 23,
   "metadata": {},
   "outputs": [],
   "source": [
    "timestamps_all_stim = dict()"
   ]
  },
  {
   "cell_type": "code",
   "execution_count": 24,
   "metadata": {},
   "outputs": [
    {
     "name": "stdout",
     "output_type": "stream",
     "text": [
      "['full_model_white_flash', 'full_model_black_flash']\n"
     ]
    }
   ],
   "source": [
    "timestamps_configs = find_all_fir_rates_files_sim(selected_sims_data_dir.rsplit('/', 1)[0], 'timestamps_with_neuron_ids*.npy')\n",
    "sim_names = list(timestamps_configs.keys())\n",
    "print(sim_names)\n",
    "sim_name = sim_names[-1]"
   ]
  },
  {
   "cell_type": "markdown",
   "metadata": {},
   "source": [
    "#### Compute population firing rates"
   ]
  },
  {
   "cell_type": "code",
   "execution_count": 25,
   "metadata": {},
   "outputs": [],
   "source": [
    "npop_guess = 1"
   ]
  },
  {
   "cell_type": "code",
   "execution_count": 26,
   "metadata": {},
   "outputs": [
    {
     "name": "stdout",
     "output_type": "stream",
     "text": [
      "\n",
      " full_model_white_flash\n",
      "e23Cux2\n",
      "e4Nr5a1\n",
      "e4Rorb\n",
      "e4Scnn1a\n",
      "e4other\n",
      "e5Rbp4\n",
      "e5noRbp4\n",
      "e6Ntsr1\n",
      "i1Htr3a\n",
      "Use only excitatory cells. Skip.\n",
      "i23Htr3a\n",
      "Use only excitatory cells. Skip.\n",
      "i23Pvalb\n",
      "Use only excitatory cells. Skip.\n",
      "i23Sst\n",
      "Use only excitatory cells. Skip.\n",
      "i4Htr3a\n",
      "Use only excitatory cells. Skip.\n",
      "i4Pvalb\n",
      "Use only excitatory cells. Skip.\n",
      "i4Sst\n",
      "Use only excitatory cells. Skip.\n",
      "i5Htr3a\n",
      "Use only excitatory cells. Skip.\n",
      "i5Pvalb\n",
      "Use only excitatory cells. Skip.\n",
      "i5Sst\n",
      "Use only excitatory cells. Skip.\n",
      "i6Htr3a\n",
      "Use only excitatory cells. Skip.\n",
      "i6Pvalb\n",
      "Use only excitatory cells. Skip.\n",
      "i6Sst\n",
      "Use only excitatory cells. Skip.\n",
      "\n",
      " full_model_black_flash\n",
      "e23Cux2\n",
      "e4Nr5a1\n",
      "e4Rorb\n",
      "e4Scnn1a\n",
      "e4other\n",
      "e5Rbp4\n",
      "e5noRbp4\n",
      "e6Ntsr1\n",
      "i1Htr3a\n",
      "Use only excitatory cells. Skip.\n",
      "i23Htr3a\n",
      "Use only excitatory cells. Skip.\n",
      "i23Pvalb\n",
      "Use only excitatory cells. Skip.\n",
      "i23Sst\n",
      "Use only excitatory cells. Skip.\n",
      "i4Htr3a\n",
      "Use only excitatory cells. Skip.\n",
      "i4Pvalb\n",
      "Use only excitatory cells. Skip.\n",
      "i4Sst\n",
      "Use only excitatory cells. Skip.\n",
      "i5Htr3a\n",
      "Use only excitatory cells. Skip.\n",
      "i5Pvalb\n",
      "Use only excitatory cells. Skip.\n",
      "i5Sst\n",
      "Use only excitatory cells. Skip.\n",
      "i6Htr3a\n",
      "Use only excitatory cells. Skip.\n",
      "i6Pvalb\n",
      "Use only excitatory cells. Skip.\n",
      "i6Sst\n",
      "Use only excitatory cells. Skip.\n"
     ]
    }
   ],
   "source": [
    "sims_spike_trains_cell_pops = timestamps_to_spiketrains_sim(timestamps_configs, mode = 'only_exc')"
   ]
  },
  {
   "cell_type": "code",
   "execution_count": 27,
   "metadata": {},
   "outputs": [
    {
     "name": "stdout",
     "output_type": "stream",
     "text": [
      "full_model_white_flash\n",
      "e23Cux2 12689\n",
      "e4Nr5a1 1248\n",
      "e4Rorb 2605\n",
      "e4Scnn1a 3072\n",
      "e4other 3329\n",
      "e5Rbp4 6010\n",
      "e5noRbp4 1559\n",
      "e6Ntsr1 12882\n",
      "full_model_black_flash\n",
      "e23Cux2 12689\n",
      "e4Nr5a1 1248\n",
      "e4Rorb 2605\n",
      "e4Scnn1a 3072\n",
      "e4other 3329\n",
      "e5Rbp4 6010\n",
      "e5noRbp4 1559\n",
      "e6Ntsr1 12882\n"
     ]
    }
   ],
   "source": [
    "sims_spike_trains_layer_pops = spiketrains_by_layer(sims_spike_trains_cell_pops, npop_guess = npop_guess)"
   ]
  },
  {
   "cell_type": "code",
   "execution_count": 28,
   "metadata": {},
   "outputs": [
    {
     "data": {
      "text/plain": [
       "dict_keys(['v1'])"
      ]
     },
     "execution_count": 28,
     "metadata": {},
     "output_type": "execute_result"
    }
   ],
   "source": [
    "sims_spike_trains_layer_pops[sim_name].keys()"
   ]
  },
  {
   "cell_type": "code",
   "execution_count": 29,
   "metadata": {},
   "outputs": [
    {
     "name": "stdout",
     "output_type": "stream",
     "text": [
      "full_model_white_flash\n",
      "v1\n",
      "full_model_black_flash\n",
      "v1\n",
      "v1\n"
     ]
    }
   ],
   "source": [
    "fir_rate_all_trials = dict()\n",
    "fir_rate_trial_avg = dict()\n",
    "\n",
    "fir_rate_trial_avg_pops_temp = np.zeros((len(sims_spike_trains_layer_pops.keys()), npop_guess, 700))\n",
    "for isim, sim_name in enumerate(sims_spike_trains_layer_pops.keys()):\n",
    "    print(sim_name)\n",
    "    for ipop, pop_name in enumerate(sims_spike_trains_layer_pops[sim_name].keys()):\n",
    "        print(pop_name)\n",
    "        fir_rate_temp = np.mean(np.mean(sims_spike_trains_layer_pops[sim_name]\\\n",
    "                                            [pop_name][:,:,t_rem_trial_start:], axis = 0), axis = 0)\n",
    "        \n",
    "        fir_rate_trial_avg_pops_temp[isim, ipop] = fir_rate_temp\n",
    "        \n",
    "\n",
    "for ipop, pop_name in enumerate(sims_spike_trains_layer_pops[sim_name].keys()):\n",
    "    print(pop_name)\n",
    "    fir_rate_trial_avg[pop_name] = fir_rate_trial_avg_pops_temp[:, ipop]\n",
    "    \n",
    "fir_rate_all_stim_trial_avg = fir_rate_trial_avg"
   ]
  },
  {
   "cell_type": "code",
   "execution_count": null,
   "metadata": {},
   "outputs": [],
   "source": []
  },
  {
   "cell_type": "markdown",
   "metadata": {},
   "source": [
    "## Load LGN input"
   ]
  },
  {
   "cell_type": "code",
   "execution_count": 35,
   "metadata": {},
   "outputs": [],
   "source": [
    "fir_rate_lgn_all_stim_trial_avg = np.zeros((nstim, ntime))"
   ]
  },
  {
   "cell_type": "markdown",
   "metadata": {},
   "source": [
    "#### White flash"
   ]
  },
  {
   "cell_type": "code",
   "execution_count": 36,
   "metadata": {},
   "outputs": [],
   "source": [
    "model_input_path = '/Users/atleeskelandrimehaug/Repository/cobra_check/V1_model_working_dir/inputs_from_V1_model'\n",
    "filename = 'lgn_exp_input_NO_ON-OFF_class_10trials_nov_15_short.h5'\n",
    "loadpath = os.path.join(model_input_path, filename)\n",
    "file = h5py.File(loadpath, 'r')\n",
    "neuron_ids_lgn_input = np.array(file['spikes']['gids'])\n",
    "timestamps_lgn_input = np.array(file['spikes']['timestamps'])\n",
    "file.close()"
   ]
  },
  {
   "cell_type": "code",
   "execution_count": 37,
   "metadata": {},
   "outputs": [
    {
     "data": {
      "image/png": "[encoded data removed]",
      "text/plain": [
       "<Figure size 432x288 with 1 Axes>"
      ]
     },
     "metadata": {
      "needs_background": "light"
     },
     "output_type": "display_data"
    }
   ],
   "source": [
    "ntrials_sim = 10\n",
    "bins_lgn = np.linspace(0, ntrials_sim*trial_dur_sim, ntrials_sim*trial_dur_sim+1)\n",
    "fir_rate_lgn_input_w_flash = np.histogram(timestamps_lgn_input, bins = bins_lgn)[0]/17400\n",
    "fir_rate_lgn_input_w_flash = fir_rate_lgn_input_w_flash.reshape((ntrials_sim, trial_dur_sim))\n",
    "fir_rate_lgn_input_w_flash = fir_rate_lgn_input_w_flash[:,t_rem_trial_start:]\n",
    "#fir_rate_lgn_input_w_flash = (fir_rate_lgn_input_w_flash.T - np.mean(fir_rate_lgn_input_w_flash[:,:tstim_onset_sim], axis=1)).T\n",
    "#fir_rate_lgn_input_w_flash = fir_rate_lgn_input_w_flash[:,tstim_onset_sim:]\n",
    "fir_rate_lgn_flash_plot = np.mean(fir_rate_lgn_input_w_flash, axis=0)\n",
    "istim = 0\n",
    "fir_rate_lgn_all_stim_trial_avg[istim] = fir_rate_lgn_flash_plot\n",
    "fir_rate_lgn_flash_plot = gaussian_filter1d(fir_rate_lgn_flash_plot, sigma = 2)\n",
    "\n",
    "\n",
    "fig = plt.figure(figsize = (6,4))\n",
    "\n",
    "ax = fig.add_subplot(1,1,1)\n",
    "ax.plot(fir_rate_lgn_flash_plot*1E3, color = 'tab:blue', label = 'LGN input to model')\n",
    "ax.margins(x=0)\n",
    "ax.set_ylim([0, 14])\n",
    "ax.set_ylabel('Firing rate (Hz)')\n",
    "ax.set_xlabel('Time from flash onset (ms)')\n",
    "fig.legend(bbox_to_anchor = (0.96, 0.92))\n",
    "\n",
    "ax.set_title('LGN input to model')\n",
    "\n",
    "fig.subplots_adjust(left = 0.12, right = 0.95, bottom = 0.15, top = 0.9)\n",
    "\n",
    "fig_name = 'lgn-input-to-model.png'\n",
    "\n",
    "#savepath = os.path.join(fig_dir, fig_name)\n",
    "\n",
    "#fig.savefig(savepath, facecolor = 'w')"
   ]
  },
  {
   "cell_type": "code",
   "execution_count": null,
   "metadata": {},
   "outputs": [],
   "source": []
  },
  {
   "cell_type": "markdown",
   "metadata": {},
   "source": [
    "### Black flash"
   ]
  },
  {
   "cell_type": "code",
   "execution_count": 38,
   "metadata": {},
   "outputs": [],
   "source": [
    "filename = 'lgn_black_flash_exp_input_NO_ON-OFF_class_10trials_nov_15_short.h5'\n",
    "loadpath = os.path.join(model_input_path, filename)\n",
    "file = h5py.File(loadpath, 'r')\n",
    "neuron_ids_lgn_input = np.array(file['spikes']['gids'])\n",
    "timestamps_lgn_input = np.array(file['spikes']['timestamps'])\n",
    "file.close()"
   ]
  },
  {
   "cell_type": "code",
   "execution_count": 39,
   "metadata": {},
   "outputs": [
    {
     "data": {
      "text/plain": [
       "200"
      ]
     },
     "execution_count": 39,
     "metadata": {},
     "output_type": "execute_result"
    }
   ],
   "source": [
    "tstim_onset_sim"
   ]
  },
  {
   "cell_type": "code",
   "execution_count": 40,
   "metadata": {},
   "outputs": [
    {
     "data": {
      "image/png": "[encoded data removed]",
      "text/plain": [
       "<Figure size 432x288 with 1 Axes>"
      ]
     },
     "metadata": {
      "needs_background": "light"
     },
     "output_type": "display_data"
    }
   ],
   "source": [
    "ntrials_sim = 10\n",
    "bins_lgn = np.linspace(0, ntrials_sim*trial_dur_sim, ntrials_sim*trial_dur_sim+1)\n",
    "fir_rate_lgn_input_b_flash = np.histogram(timestamps_lgn_input, bins = bins_lgn)[0]/17400\n",
    "fir_rate_lgn_input_b_flash = fir_rate_lgn_input_b_flash.reshape((ntrials_sim, trial_dur_sim))\n",
    "fir_rate_lgn_input_b_flash = fir_rate_lgn_input_b_flash[:,t_rem_trial_start:]\n",
    "#fir_rate_lgn_input_b_flash = (fir_rate_lgn_input_b_flash.T - np.mean(fir_rate_lgn_input_b_flash[:,:tstim_onset_sim], axis=1)).T\n",
    "#fir_rate_lgn_input_b_flash = fir_rate_lgn_input_b_flash[:,tstim_onset_sim:]\n",
    "fir_rate_lgn_b_flash_plot = np.mean(fir_rate_lgn_input_b_flash, axis=0)\n",
    "istim = 1\n",
    "fir_rate_lgn_all_stim_trial_avg[istim] = fir_rate_lgn_b_flash_plot\n",
    "fir_rate_lgn_b_flash_plot = gaussian_filter1d(fir_rate_lgn_b_flash_plot, sigma = 2)\n",
    "\n",
    "\n",
    "fig = plt.figure(figsize = (6,4))\n",
    "\n",
    "ax = fig.add_subplot(1,1,1)\n",
    "ax.plot(fir_rate_lgn_b_flash_plot*1E3, color = 'tab:blue', label = 'LGN input to model')\n",
    "ax.margins(x=0)\n",
    "ax.set_ylim([-4, 15])\n",
    "ax.set_ylabel('Firing rate (Hz)')\n",
    "ax.set_xlabel('Time from flash onset (ms)')\n",
    "fig.legend(bbox_to_anchor = (0.96, 0.92))\n",
    "\n",
    "ax.set_title('LGN input to model')\n",
    "\n",
    "fig.subplots_adjust(left = 0.12, right = 0.95, bottom = 0.15, top = 0.9)\n",
    "\n",
    "fig_name = 'lgn-input-to-model.png'\n",
    "\n",
    "#savepath = os.path.join(fig_dir, fig_name)\n",
    "\n",
    "#fig.savefig(savepath, facecolor = 'w')"
   ]
  },
  {
   "cell_type": "raw",
   "metadata": {},
   "source": [
    "fir_rate_lgn_all_stim_trial_avg = np.concatenate([np.mean(fir_rate_lgn_input_b_flash, axis = 0), np.mean(fir_rate_lgn_input_w_flash, axis = 0)])"
   ]
  },
  {
   "cell_type": "code",
   "execution_count": null,
   "metadata": {},
   "outputs": [],
   "source": []
  },
  {
   "cell_type": "markdown",
   "metadata": {},
   "source": [
    "## Load FB input"
   ]
  },
  {
   "cell_type": "code",
   "execution_count": 43,
   "metadata": {},
   "outputs": [],
   "source": [
    "fir_rate_fb_all_stim_trial_avg = np.zeros((nstim, ntime))"
   ]
  },
  {
   "cell_type": "markdown",
   "metadata": {},
   "source": [
    "#### White flash"
   ]
  },
  {
   "cell_type": "code",
   "execution_count": 46,
   "metadata": {},
   "outputs": [],
   "source": [
    "model_input_path = '/Users/atleeskelandrimehaug/Repository/cobra_check/V1_model_working_dir/inputs_from_V1_model'\n",
    "filename = 'fb_from_LM_short.h5'\n",
    "loadpath = os.path.join(model_input_path, filename)\n",
    "file = h5py.File(loadpath, 'r')\n",
    "neuron_ids_fb_input = np.array(file['spikes']['gids'])\n",
    "timestamps_fb_input = np.array(file['spikes']['timestamps'])\n",
    "file.close()"
   ]
  },
  {
   "cell_type": "code",
   "execution_count": 47,
   "metadata": {},
   "outputs": [
    {
     "data": {
      "image/png": "[encoded data removed]",
      "text/plain": [
       "<Figure size 432x288 with 1 Axes>"
      ]
     },
     "metadata": {
      "needs_background": "light"
     },
     "output_type": "display_data"
    }
   ],
   "source": [
    "ntrials_sim = 10\n",
    "bins_fb = np.linspace(0, ntrials_sim*trial_dur_sim, ntrials_sim*trial_dur_sim+1)\n",
    "fir_rate_fb_input_w_flash = np.histogram(timestamps_fb_input, bins = bins_fb)[0]/1E3\n",
    "fir_rate_fb_input_w_flash = fir_rate_fb_input_w_flash.reshape((ntrials_sim, trial_dur_sim))\n",
    "fir_rate_fb_input_w_flash = fir_rate_fb_input_w_flash[:,t_rem_trial_start:]\n",
    "#fir_rate_lgn_input_w_flash = (fir_rate_lgn_input_w_flash.T - np.mean(fir_rate_lgn_input_w_flash[:,:tstim_onset_sim], axis=1)).T\n",
    "#fir_rate_lgn_input_w_flash = fir_rate_lgn_input_w_flash[:,tstim_onset_sim:]\n",
    "fir_rate_fb_flash_plot = np.mean(fir_rate_fb_input_w_flash, axis=0)\n",
    "istim = 0\n",
    "fir_rate_fb_all_stim_trial_avg[istim] = fir_rate_fb_flash_plot\n",
    "fir_rate_fb_flash_plot = gaussian_filter1d(fir_rate_fb_flash_plot, sigma = 2)\n",
    "\n",
    "\n",
    "fig = plt.figure(figsize = (6,4))\n",
    "\n",
    "ax = fig.add_subplot(1,1,1)\n",
    "ax.plot(fir_rate_fb_flash_plot*1E3, color = 'tab:blue', label = 'LGN input to model')\n",
    "ax.margins(x=0)\n",
    "ax.set_ylim([0, 14])\n",
    "ax.set_ylabel('Firing rate (Hz)')\n",
    "ax.set_xlabel('Time from flash onset (ms)')\n",
    "fig.legend(bbox_to_anchor = (0.96, 0.92))\n",
    "\n",
    "ax.set_title('FB input to model')\n",
    "\n",
    "fig.subplots_adjust(left = 0.12, right = 0.95, bottom = 0.15, top = 0.9)\n",
    "\n",
    "fig_name = 'FB-input-to-model.png'\n",
    "\n",
    "#savepath = os.path.join(fig_dir, fig_name)\n",
    "\n",
    "#fig.savefig(savepath, facecolor = 'w')"
   ]
  },
  {
   "cell_type": "markdown",
   "metadata": {},
   "source": [
    "#### Black flash"
   ]
  },
  {
   "cell_type": "code",
   "execution_count": 48,
   "metadata": {},
   "outputs": [],
   "source": [
    "model_input_path = '/Users/atleeskelandrimehaug/Repository/cobra_check/V1_model_working_dir/inputs_from_V1_model'\n",
    "filename = 'fb_from_LM_black_short.h5'\n",
    "loadpath = os.path.join(model_input_path, filename)\n",
    "file = h5py.File(loadpath, 'r')\n",
    "neuron_ids_fb_input = np.array(file['spikes']['gids'])\n",
    "timestamps_fb_input = np.array(file['spikes']['timestamps'])\n",
    "file.close()"
   ]
  },
  {
   "cell_type": "code",
   "execution_count": 49,
   "metadata": {},
   "outputs": [
    {
     "data": {
      "image/png": "[encoded data removed]",
      "text/plain": [
       "<Figure size 432x288 with 1 Axes>"
      ]
     },
     "metadata": {
      "needs_background": "light"
     },
     "output_type": "display_data"
    }
   ],
   "source": [
    "ntrials_sim = 10\n",
    "bins_fb = np.linspace(0, ntrials_sim*trial_dur_sim, ntrials_sim*trial_dur_sim+1)\n",
    "fir_rate_fb_input_w_flash = np.histogram(timestamps_fb_input, bins = bins_fb)[0]/1E3\n",
    "fir_rate_fb_input_w_flash = fir_rate_fb_input_w_flash.reshape((ntrials_sim, trial_dur_sim))\n",
    "fir_rate_fb_input_w_flash = fir_rate_fb_input_w_flash[:,t_rem_trial_start:]\n",
    "#fir_rate_lgn_input_w_flash = (fir_rate_lgn_input_w_flash.T - np.mean(fir_rate_lgn_input_w_flash[:,:tstim_onset_sim], axis=1)).T\n",
    "#fir_rate_lgn_input_w_flash = fir_rate_lgn_input_w_flash[:,tstim_onset_sim:]\n",
    "fir_rate_fb_flash_plot = np.mean(fir_rate_fb_input_w_flash, axis=0)\n",
    "istim = 1\n",
    "fir_rate_fb_all_stim_trial_avg[istim] = fir_rate_fb_flash_plot\n",
    "fir_rate_fb_flash_plot = gaussian_filter1d(fir_rate_fb_flash_plot, sigma = 2)\n",
    "\n",
    "\n",
    "fig = plt.figure(figsize = (6,4))\n",
    "\n",
    "ax = fig.add_subplot(1,1,1)\n",
    "ax.plot(fir_rate_fb_flash_plot*1E3, color = 'tab:blue', label = 'LGN input to model')\n",
    "ax.margins(x=0)\n",
    "ax.set_ylim([0, 14])\n",
    "ax.set_ylabel('Firing rate (Hz)')\n",
    "ax.set_xlabel('Time from flash onset (ms)')\n",
    "fig.legend(bbox_to_anchor = (0.96, 0.92))\n",
    "\n",
    "ax.set_title('FB input to model')\n",
    "\n",
    "fig.subplots_adjust(left = 0.12, right = 0.95, bottom = 0.15, top = 0.9)\n",
    "\n",
    "fig_name = 'FB-input-to-model.png'\n",
    "\n",
    "#savepath = os.path.join(fig_dir, fig_name)\n",
    "\n",
    "#fig.savefig(savepath, facecolor = 'w')"
   ]
  },
  {
   "cell_type": "markdown",
   "metadata": {},
   "source": [
    "### Background input"
   ]
  },
  {
   "cell_type": "code",
   "execution_count": 50,
   "metadata": {},
   "outputs": [],
   "source": [
    "fir_rate_bkg_all_stim_trial_avg = np.zeros((nstim, ntime))"
   ]
  },
  {
   "cell_type": "code",
   "execution_count": 51,
   "metadata": {},
   "outputs": [],
   "source": [
    "model_input_path = '/Users/atleeskelandrimehaug/Repository/cobra_check/V1_model_working_dir/inputs_from_V1_model'\n",
    "filename = 'bkg_nest.h5'\n",
    "loadpath = os.path.join(model_input_path, filename)\n",
    "file = h5py.File(loadpath, 'r')\n",
    "neuron_ids_bkg_input = np.array(file['spikes']['gids'])\n",
    "timestamps_bkg_input = np.array(file['spikes']['timestamps'])\n",
    "file.close()"
   ]
  },
  {
   "cell_type": "code",
   "execution_count": 52,
   "metadata": {},
   "outputs": [
    {
     "data": {
      "image/png": "[encoded data removed]",
      "text/plain": [
       "<Figure size 432x288 with 1 Axes>"
      ]
     },
     "metadata": {
      "needs_background": "light"
     },
     "output_type": "display_data"
    }
   ],
   "source": [
    "ntrials_sim = 10\n",
    "bins_bkg = np.linspace(0, ntrials_sim*trial_dur_sim, ntrials_sim*trial_dur_sim+1)\n",
    "fir_rate_bkg_input_w_flash = np.histogram(timestamps_bkg_input, bins = bins_bkg)[0]/1E3\n",
    "fir_rate_bkg_input_w_flash = fir_rate_bkg_input_w_flash.reshape((ntrials_sim, trial_dur_sim))\n",
    "fir_rate_bkg_input_w_flash = fir_rate_bkg_input_w_flash[:,t_rem_trial_start:]\n",
    "#fir_rate_lgn_input_w_flash = (fir_rate_lgn_input_w_flash.T - np.mean(fir_rate_lgn_input_w_flash[:,:tstim_onset_sim], axis=1)).T\n",
    "#fir_rate_lgn_input_w_flash = fir_rate_lgn_input_w_flash[:,tstim_onset_sim:]\n",
    "fir_rate_bkg_flash_plot = np.mean(fir_rate_bkg_input_w_flash, axis=0)\n",
    "for istim in range(2):\n",
    "    fir_rate_bkg_all_stim_trial_avg[istim] = fir_rate_bkg_flash_plot\n",
    "\n",
    "fir_rate_bkg_flash_plot = gaussian_filter1d(fir_rate_bkg_flash_plot, sigma = 2)\n",
    "\n",
    "\n",
    "fig = plt.figure(figsize = (6,4))\n",
    "\n",
    "ax = fig.add_subplot(1,1,1)\n",
    "ax.plot(fir_rate_bkg_flash_plot*1E3, color = 'tab:blue', label = 'BKG input to model')\n",
    "ax.margins(x=0)\n",
    "ax.set_ylim([0, 14])\n",
    "ax.set_ylabel('Firing rate (Hz)')\n",
    "ax.set_xlabel('Time from flash onset (ms)')\n",
    "fig.legend(bbox_to_anchor = (0.96, 0.92))\n",
    "\n",
    "ax.set_title('BKG input to model')\n",
    "\n",
    "fig.subplots_adjust(left = 0.12, right = 0.95, bottom = 0.15, top = 0.9)\n",
    "\n",
    "fig_name = 'BKG-input-to-model.png'\n",
    "\n",
    "#savepath = os.path.join(fig_dir, fig_name)\n",
    "\n",
    "#fig.savefig(savepath, facecolor = 'w')"
   ]
  },
  {
   "cell_type": "markdown",
   "metadata": {},
   "source": [
    "### Put the external input firing rates and V1 population firing rates together into one array"
   ]
  },
  {
   "cell_type": "code",
   "execution_count": 54,
   "metadata": {},
   "outputs": [],
   "source": [
    "rmat_model_w_lgn_fb = np.zeros((nstim, fir_rate_lgn_all_stim_trial_avg.shape[1], npop_guess+3))\n",
    "rmat_model_w_lgn_fb[:, :, 0] = fir_rate_lgn_all_stim_trial_avg\n",
    "\n",
    "for ipop, pop_name in enumerate(fir_rate_all_stim_trial_avg.keys()):\n",
    "    rmat_model_w_lgn_fb[:, :, 1+ipop] = fir_rate_all_stim_trial_avg[pop_name]\n",
    "    \n",
    "rmat_model_w_lgn_fb[:, :, -2] = fir_rate_fb_all_stim_trial_avg\n",
    "rmat_model_w_lgn_fb[:, :, -1] = fir_rate_bkg_all_stim_trial_avg"
   ]
  },
  {
   "cell_type": "code",
   "execution_count": 56,
   "metadata": {},
   "outputs": [
    {
     "data": {
      "text/plain": [
       "(2, 700, 4)"
      ]
     },
     "execution_count": 56,
     "metadata": {},
     "output_type": "execute_result"
    }
   ],
   "source": [
    "rmat_model_w_lgn_fb.shape"
   ]
  },
  {
   "cell_type": "code",
   "execution_count": null,
   "metadata": {},
   "outputs": [],
   "source": []
  },
  {
   "cell_type": "markdown",
   "metadata": {},
   "source": [
    "# Organize population firing rate matrix with LPA estimated temporal profiles to use for decomposition"
   ]
  },
  {
   "cell_type": "markdown",
   "metadata": {},
   "source": [
    "### Load firing rate temporal profiles estimated from LPA"
   ]
  },
  {
   "cell_type": "code",
   "execution_count": 58,
   "metadata": {},
   "outputs": [],
   "source": [
    "npop_guess = 1"
   ]
  },
  {
   "cell_type": "code",
   "execution_count": 60,
   "metadata": {},
   "outputs": [],
   "source": [
    "loadpath = '../make_figures_article/lpa_results_data/test_notebooks'\n",
    "\n",
    "filename = 'lpa_results_applied_to_full_model_sim_w_'+str(npop_guess)+'_pop.npy'\n",
    "\n",
    "loadpath = os.path.join(loadpath,filename)\n",
    "\n",
    "lpa_results = np.load(loadpath, allow_pickle = True)[()]\n",
    "\n",
    "# Est. spatial profiles of laminar populations\n",
    "rmat_lpa = lpa_results['rmat_lpa']"
   ]
  },
  {
   "cell_type": "code",
   "execution_count": 61,
   "metadata": {},
   "outputs": [
    {
     "data": {
      "text/plain": [
       "(2, 700, 1)"
      ]
     },
     "execution_count": 61,
     "metadata": {},
     "output_type": "execute_result"
    }
   ],
   "source": [
    "rmat_lpa.shape"
   ]
  },
  {
   "cell_type": "markdown",
   "metadata": {},
   "source": [
    "### Put the LPA-est. temporal profiles together with firing rates of model external input in matrix to use in decomposition"
   ]
  },
  {
   "cell_type": "code",
   "execution_count": 85,
   "metadata": {},
   "outputs": [],
   "source": [
    "rmat_lpa_w_lgn_fb = np.zeros((rmat_lpa.shape[:2]+(rmat_lpa.shape[-1]+3,)))\n",
    "rmat_lpa_w_lgn_fb[:, :, 0] = fir_rate_lgn_all_stim_trial_avg\n",
    "rmat_lpa_w_lgn_fb[:,:,1:-2] = rmat_lpa\n",
    "rmat_lpa_w_lgn_fb[:, :, -2] = fir_rate_fb_all_stim_trial_avg\n",
    "rmat_lpa_w_lgn_fb[:, :, -1] = fir_rate_bkg_all_stim_trial_avg"
   ]
  },
  {
   "cell_type": "code",
   "execution_count": 86,
   "metadata": {},
   "outputs": [
    {
     "data": {
      "text/plain": [
       "(2, 700, 4)"
      ]
     },
     "execution_count": 86,
     "metadata": {},
     "output_type": "execute_result"
    }
   ],
   "source": [
    "rmat_lpa_w_lgn_fb.shape"
   ]
  },
  {
   "cell_type": "markdown",
   "metadata": {},
   "source": [
    "#### Plot to check matrix with temporal profiles estimated from LPA"
   ]
  },
  {
   "cell_type": "code",
   "execution_count": 89,
   "metadata": {},
   "outputs": [
    {
     "data": {
      "text/plain": [
       "Text(0.5, 1.0, 'Temporal profiles of presynaptic firing rates')"
      ]
     },
     "execution_count": 89,
     "metadata": {},
     "output_type": "execute_result"
    },
    {
     "data": {
      "image/png": "[encoded data removed]",
      "text/plain": [
       "<Figure size 432x432 with 1 Axes>"
      ]
     },
     "metadata": {
      "needs_background": "light"
     },
     "output_type": "display_data"
    }
   ],
   "source": [
    "pop_names = ['LGN', 'V1', 'FB', 'BKG']\n",
    "\n",
    "istim = 0\n",
    "fig, ax = plt.subplots(figsize = (6,6))\n",
    "for ipop in range(rmat_lpa_w_lgn_fb.shape[-1]):\n",
    "    fir_rate_plot = rmat_lpa_w_lgn_fb[istim,:,ipop]\n",
    "    #fir_rate_plot = gaussian_filter1d(fir_rate_plot*1E3, sigma = 2)\n",
    "    \n",
    "    ax.plot(fir_rate_plot, label = pop_names[ipop])\n",
    "    \n",
    "ax.legend(bbox_to_anchor = (1,1))\n",
    "\n",
    "ax.set_xlabel('Time (ms)')\n",
    "ax.set_ylabel('a.u.')\n",
    "\n",
    "ax.set_title('Temporal profiles of presynaptic firing rates')"
   ]
  },
  {
   "cell_type": "code",
   "execution_count": 65,
   "metadata": {},
   "outputs": [],
   "source": [
    "subtract_baseline = True\n",
    "baseline_presubtracted_lfp = False\n",
    "if subtract_baseline:\n",
    "    baseline_end = 200\n",
    "    baseline_string = 'baseline_subtracted'\n",
    "else:\n",
    "    baseline_end = 0\n",
    "    if baseline_presubtracted_lfp:\n",
    "        baseline_string = 'baseline_pre_subtracted'\n",
    "        baseline_end_fir_rates = 250\n",
    "    else:\n",
    "        baseline_string = 'w_baseline'"
   ]
  },
  {
   "cell_type": "code",
   "execution_count": 68,
   "metadata": {},
   "outputs": [],
   "source": [
    "nchan = nchan_lim"
   ]
  },
  {
   "cell_type": "code",
   "execution_count": 70,
   "metadata": {},
   "outputs": [
    {
     "name": "stdout",
     "output_type": "stream",
     "text": [
      "(2, 700, 22)\n",
      "This is class *LPA_Signal* in *pyLPA* module\n",
      "lb =  [0.0]\n",
      "ub =  [0.84, 0.7]\n",
      "Here\n",
      "init_args:  {'maxIter': 10000, 'maxFunEvals': 20000, 'maxTime': 600, 'maxCPUTime': 1000, 'maxNonSuccess': 30}\n",
      "Solving for lfp part of signal\n",
      "len(ub):  8\n",
      "self.pen_fac:  0.0\n",
      "\n",
      "------------------------- OpenOpt 0.5629 -------------------------\n",
      "problem: unnamed   type: GLP    goal: minimum\n",
      "solver: de\n",
      "variables: 8\n",
      "  iter  objFunVal  \n",
      "    0  2.699e-01 \n",
      "   10  2.189e-01 \n",
      "   20  2.179e-01 \n",
      "   30  2.161e-01 \n",
      "   40  2.157e-01 \n",
      "   50  2.155e-01 \n",
      "   60  2.154e-01 \n",
      "   70  2.152e-01 \n",
      "   80  2.151e-01 \n",
      "   90  2.151e-01 \n",
      "  100  2.151e-01 \n",
      "  110  2.151e-01 \n",
      "  120  2.151e-01 \n",
      "  130  2.151e-01 \n",
      "  140  2.151e-01 \n",
      "  150  2.151e-01 \n",
      "  160  2.151e-01 \n",
      "  170  2.151e-01 \n",
      "  180  2.151e-01 \n",
      "  190  2.151e-01 \n",
      "  200  2.151e-01 \n",
      "  210  2.151e-01 \n",
      "  220  2.151e-01 \n",
      "  230  2.151e-01 \n",
      "  240  2.151e-01 \n",
      "  247  2.151e-01 \n",
      "istop: -10 (max objfunc evals limit (p.maxFunEvals=20000) has been reached)\n",
      "Solver:   Time Elapsed = 24.6  \tCPU Time Elapsed = 24.6\n",
      "objFuncValue: 0.21510149 (feasible, MaxResidual = 0)\n",
      "Solving for lfp part of signal\n",
      "len(ub):  8\n",
      "self.pen_fac:  0.5\n",
      "\n",
      "------------------------- OpenOpt 0.5629 -------------------------\n",
      "problem: unnamed   type: GLP    goal: minimum\n",
      "solver: de\n",
      "variables: 8\n",
      "  iter  objFunVal  \n",
      "    0  1.048e+00 \n",
      "   10  5.747e-01 \n",
      "   20  5.621e-01 \n",
      "   30  5.161e-01 \n",
      "   40  5.117e-01 \n",
      "   50  5.054e-01 \n",
      "   60  5.022e-01 \n",
      "   70  4.913e-01 \n",
      "   80  4.878e-01 \n",
      "   90  4.866e-01 \n",
      "  100  4.780e-01 \n",
      "  110  4.772e-01 \n",
      "  120  4.747e-01 \n",
      "  130  4.747e-01 \n",
      "  140  4.747e-01 \n",
      "  150  4.747e-01 \n",
      "  152  4.747e-01 \n",
      "istop: 11 (Non-Success Number > maxNonSuccess = 30)\n",
      "Solver:   Time Elapsed = 15.2  \tCPU Time Elapsed = 15.2\n",
      "objFuncValue: 0.47467303 (feasible, MaxResidual = 0)\n",
      "Solving for lfp part of signal\n",
      "len(ub):  8\n",
      "self.pen_fac:  1.0\n",
      "\n",
      "------------------------- OpenOpt 0.5629 -------------------------\n",
      "problem: unnamed   type: GLP    goal: minimum\n",
      "solver: de\n",
      "variables: 8\n",
      "  iter  objFunVal  \n",
      "    0  1.825e+00 \n",
      "   10  8.844e-01 \n",
      "   20  8.177e-01 \n",
      "   30  7.967e-01 \n",
      "   40  7.446e-01 \n",
      "   50  7.446e-01 \n",
      "   60  7.446e-01 \n",
      "   70  7.370e-01 \n",
      "   80  7.348e-01 \n",
      "   90  7.288e-01 \n",
      "  100  6.985e-01 \n",
      "  110  6.924e-01 \n",
      "  120  6.924e-01 \n",
      "  130  6.924e-01 \n",
      "  140  6.924e-01 \n",
      "  141  6.924e-01 \n",
      "istop: 11 (Non-Success Number > maxNonSuccess = 30)\n",
      "Solver:   Time Elapsed = 14.2  \tCPU Time Elapsed = 14.2\n",
      "objFuncValue: 0.69240539 (feasible, MaxResidual = 0)\n",
      "Solving for lfp part of signal\n",
      "len(ub):  8\n",
      "self.pen_fac:  1.5\n",
      "\n",
      "------------------------- OpenOpt 0.5629 -------------------------\n",
      "problem: unnamed   type: GLP    goal: minimum\n",
      "solver: de\n",
      "variables: 8\n",
      "  iter  objFunVal  \n",
      "    0  2.603e+00 \n",
      "   10  1.141e+00 \n",
      "   20  1.006e+00 \n",
      "   30  1.006e+00 \n",
      "   40  1.006e+00 \n",
      "   50  9.530e-01 \n",
      "   60  9.152e-01 \n",
      "   70  9.152e-01 \n",
      "   80  9.152e-01 \n",
      "   86  9.152e-01 \n",
      "istop: 11 (Non-Success Number > maxNonSuccess = 30)\n",
      "Solver:   Time Elapsed = 8.58  \tCPU Time Elapsed = 8.57\n",
      "objFuncValue: 0.91519589 (feasible, MaxResidual = 0)\n",
      "Solving for lfp part of signal\n",
      "len(ub):  8\n",
      "self.pen_fac:  2.0\n",
      "\n",
      "------------------------- OpenOpt 0.5629 -------------------------\n",
      "problem: unnamed   type: GLP    goal: minimum\n",
      "solver: de\n",
      "variables: 8\n",
      "  iter  objFunVal  \n",
      "    0  3.381e+00 \n",
      "   10  1.429e+00 \n",
      "   20  1.348e+00 \n",
      "   30  1.182e+00 \n",
      "   40  1.174e+00 \n",
      "   50  1.164e+00 \n",
      "   60  1.131e+00 \n",
      "   70  1.131e+00 \n",
      "   80  1.131e+00 \n",
      "   90  1.126e+00 \n",
      "  100  1.126e+00 \n",
      "  110  1.126e+00 \n",
      "  120  1.125e+00 \n",
      "  130  1.056e+00 \n",
      "  140  1.056e+00 \n",
      "  150  1.043e+00 \n",
      "  160  1.043e+00 \n",
      "  170  1.043e+00 \n",
      "  176  1.043e+00 \n",
      "istop: 11 (Non-Success Number > maxNonSuccess = 30)\n",
      "Solver:   Time Elapsed = 17.5  \tCPU Time Elapsed = 17.4\n",
      "objFuncValue: 1.0427114 (feasible, MaxResidual = 0)\n",
      "Solving for lfp part of signal\n",
      "len(ub):  8\n",
      "self.pen_fac:  2.5\n",
      "\n",
      "------------------------- OpenOpt 0.5629 -------------------------\n",
      "problem: unnamed   type: GLP    goal: minimum\n",
      "solver: de\n",
      "variables: 8\n",
      "  iter  objFunVal  \n",
      "    0  4.159e+00 \n",
      "   10  1.717e+00 \n",
      "   20  1.544e+00 \n",
      "   30  1.471e+00 \n",
      "   40  1.427e+00 \n",
      "   50  1.427e+00 \n",
      "   60  1.418e+00 \n",
      "   70  1.418e+00 \n",
      "   80  1.383e+00 \n",
      "   90  1.383e+00 \n",
      "  100  1.339e+00 \n",
      "  110  1.339e+00 \n",
      "  120  1.271e+00 \n",
      "  130  1.221e+00 \n",
      "  140  1.221e+00 \n",
      "  150  1.221e+00 \n",
      "  158  1.221e+00 \n",
      "istop: 11 (Non-Success Number > maxNonSuccess = 30)\n",
      "Solver:   Time Elapsed = 15.7  \tCPU Time Elapsed = 15.7\n",
      "objFuncValue: 1.2214143 (feasible, MaxResidual = 0)\n",
      "Solving for lfp part of signal\n",
      "len(ub):  8\n",
      "self.pen_fac:  3.0\n",
      "\n",
      "------------------------- OpenOpt 0.5629 -------------------------\n",
      "problem: unnamed   type: GLP    goal: minimum\n",
      "solver: de\n",
      "variables: 8\n",
      "  iter  objFunVal  \n",
      "    0  4.937e+00 \n",
      "   10  2.005e+00 \n",
      "   20  1.782e+00 \n",
      "   30  1.709e+00 \n",
      "   40  1.647e+00 \n",
      "   50  1.647e+00 \n",
      "   60  1.607e+00 \n",
      "   70  1.607e+00 \n",
      "   80  1.607e+00 \n",
      "   90  1.460e+00 \n",
      "  100  1.460e+00 \n",
      "  110  1.318e+00 \n",
      "  120  1.318e+00 \n",
      "  130  1.318e+00 \n",
      "  133  1.318e+00 \n",
      "istop: 11 (Non-Success Number > maxNonSuccess = 30)\n",
      "Solver:   Time Elapsed = 13.2  \tCPU Time Elapsed = 13.2\n",
      "objFuncValue: 1.3179296 (feasible, MaxResidual = 0)\n",
      "Solving for lfp part of signal\n",
      "len(ub):  8\n",
      "self.pen_fac:  3.5\n",
      "\n",
      "------------------------- OpenOpt 0.5629 -------------------------\n",
      "problem: unnamed   type: GLP    goal: minimum\n",
      "solver: de\n",
      "variables: 8\n",
      "  iter  objFunVal  \n",
      "    0  5.714e+00 \n",
      "   10  2.293e+00 \n",
      "   20  2.020e+00 \n",
      "   30  1.900e+00 \n",
      "   40  1.867e+00 \n",
      "   50  1.810e+00 \n",
      "   60  1.810e+00 \n",
      "   70  1.771e+00 \n",
      "   80  1.771e+00 \n",
      "   90  1.751e+00 \n",
      "  100  1.704e+00 \n",
      "  110  1.704e+00 \n",
      "  120  1.618e+00 \n",
      "  130  1.618e+00 \n",
      "  140  1.618e+00 \n",
      "  150  1.618e+00 \n",
      "  160  1.618e+00 \n",
      "  169  1.618e+00 \n",
      "istop: 11 (Non-Success Number > maxNonSuccess = 30)\n",
      "Solver:   Time Elapsed = 16.7  \tCPU Time Elapsed = 16.7\n",
      "objFuncValue: 1.618279 (feasible, MaxResidual = 0)\n",
      "Solving for lfp part of signal\n",
      "len(ub):  8\n",
      "self.pen_fac:  4.0\n",
      "\n",
      "------------------------- OpenOpt 0.5629 -------------------------\n",
      "problem: unnamed   type: GLP    goal: minimum\n",
      "solver: de\n",
      "variables: 8\n",
      "  iter  objFunVal  \n",
      "    0  6.492e+00 \n",
      "   10  2.581e+00 \n",
      "   20  2.259e+00 \n",
      "   30  2.119e+00 \n",
      "   40  2.081e+00 \n",
      "   50  2.017e+00 \n",
      "   60  2.017e+00 \n",
      "   70  1.972e+00 \n",
      "   80  1.972e+00 \n",
      "   90  1.918e+00 \n",
      "  100  1.898e+00 \n",
      "  110  1.813e+00 \n",
      "  120  1.813e+00 \n",
      "  130  1.755e+00 \n",
      "  140  1.755e+00 \n",
      "  150  1.755e+00 \n",
      "  155  1.755e+00 \n",
      "istop: 11 (Non-Success Number > maxNonSuccess = 30)\n",
      "Solver:   Time Elapsed = 15.5  \tCPU Time Elapsed = 15.5\n",
      "objFuncValue: 1.7552999 (feasible, MaxResidual = 0)\n",
      "Solving for lfp part of signal\n",
      "len(ub):  8\n",
      "self.pen_fac:  4.5\n",
      "\n",
      "------------------------- OpenOpt 0.5629 -------------------------\n",
      "problem: unnamed   type: GLP    goal: minimum\n",
      "solver: de\n",
      "variables: 8\n",
      "  iter  objFunVal  \n",
      "    0  7.270e+00 \n",
      "   10  2.869e+00 \n",
      "   20  2.613e+00 \n",
      "   30  2.442e+00 \n",
      "   40  2.387e+00 \n",
      "   50  2.387e+00 \n",
      "   60  2.222e+00 \n",
      "   70  2.222e+00 \n",
      "   80  2.106e+00 \n",
      "   90  2.106e+00 \n",
      "  100  2.043e+00 \n",
      "  110  2.043e+00 \n",
      "  120  2.023e+00 \n",
      "  130  2.023e+00 \n",
      "  140  2.023e+00 \n",
      "  148  2.023e+00 \n",
      "istop: 11 (Non-Success Number > maxNonSuccess = 30)\n",
      "Solver:   Time Elapsed = 14.8  \tCPU Time Elapsed = 14.7\n",
      "objFuncValue: 2.0225244 (feasible, MaxResidual = 0)\n",
      "Solving for lfp part of signal\n",
      "len(ub):  8\n",
      "self.pen_fac:  5.0\n",
      "\n",
      "------------------------- OpenOpt 0.5629 -------------------------\n",
      "problem: unnamed   type: GLP    goal: minimum\n",
      "solver: de\n",
      "variables: 8\n",
      "  iter  objFunVal  \n",
      "    0  8.048e+00 \n",
      "   10  3.157e+00 \n",
      "   20  2.865e+00 \n",
      "   30  2.845e+00 \n",
      "   40  2.576e+00 \n",
      "   50  2.551e+00 \n",
      "   60  2.413e+00 \n",
      "   70  2.413e+00 \n",
      "   80  2.346e+00 \n",
      "   90  2.346e+00 \n",
      "  100  2.256e+00 \n",
      "  110  2.256e+00 \n",
      "  120  2.256e+00 \n",
      "  125  2.256e+00 \n",
      "istop: 11 (Non-Success Number > maxNonSuccess = 30)\n",
      "Solver:   Time Elapsed = 12.4  \tCPU Time Elapsed = 12.4\n",
      "objFuncValue: 2.2558692 (feasible, MaxResidual = 0)\n",
      "Solving for lfp part of signal\n",
      "len(ub):  8\n",
      "self.pen_fac:  5.5\n",
      "\n",
      "------------------------- OpenOpt 0.5629 -------------------------\n",
      "problem: unnamed   type: GLP    goal: minimum\n",
      "solver: de\n",
      "variables: 8\n",
      "  iter  objFunVal  \n",
      "    0  8.826e+00 \n",
      "   10  3.445e+00 \n",
      "   20  3.118e+00 \n",
      "   30  3.097e+00 \n",
      "   40  2.799e+00 \n",
      "   50  2.770e+00 \n",
      "   60  2.619e+00 \n",
      "   70  2.619e+00 \n",
      "   80  2.619e+00 \n",
      "   86  2.619e+00 \n",
      "istop: 11 (Non-Success Number > maxNonSuccess = 30)\n",
      "Solver:   Time Elapsed = 8.54  \tCPU Time Elapsed = 8.53\n",
      "objFuncValue: 2.6189538 (feasible, MaxResidual = 0)\n",
      "Solving for lfp part of signal\n",
      "len(ub):  8\n",
      "self.pen_fac:  6.0\n",
      "\n",
      "------------------------- OpenOpt 0.5629 -------------------------\n",
      "problem: unnamed   type: GLP    goal: minimum\n",
      "solver: de\n",
      "variables: 8\n",
      "  iter  objFunVal  \n",
      "    0  9.603e+00 \n"
     ]
    },
    {
     "name": "stdout",
     "output_type": "stream",
     "text": [
      "   10  3.733e+00 \n",
      "   20  3.371e+00 \n",
      "   30  3.348e+00 \n",
      "   40  3.022e+00 \n",
      "   50  3.022e+00 \n",
      "   60  2.959e+00 \n",
      "   70  2.615e+00 \n",
      "   80  2.615e+00 \n",
      "   90  2.615e+00 \n",
      "   98  2.615e+00 \n",
      "istop: 11 (Non-Success Number > maxNonSuccess = 30)\n",
      "Solver:   Time Elapsed = 9.72  \tCPU Time Elapsed = 9.71\n",
      "objFuncValue: 2.6145316 (feasible, MaxResidual = 0)\n",
      "Solving for lfp part of signal\n",
      "len(ub):  8\n",
      "self.pen_fac:  6.5\n",
      "\n",
      "------------------------- OpenOpt 0.5629 -------------------------\n",
      "problem: unnamed   type: GLP    goal: minimum\n",
      "solver: de\n",
      "variables: 8\n",
      "  iter  objFunVal  \n",
      "    0  1.038e+01 \n",
      "   10  4.021e+00 \n",
      "   20  3.623e+00 \n",
      "   30  3.599e+00 \n",
      "   40  3.245e+00 \n",
      "   50  3.245e+00 \n",
      "   60  3.177e+00 \n",
      "   70  2.803e+00 \n",
      "   80  2.803e+00 \n",
      "   90  2.803e+00 \n",
      "   98  2.803e+00 \n",
      "istop: 11 (Non-Success Number > maxNonSuccess = 30)\n",
      "Solver:   Time Elapsed = 9.66  \tCPU Time Elapsed = 9.65\n",
      "objFuncValue: 2.8032046 (feasible, MaxResidual = 0)\n",
      "Solving for lfp part of signal\n",
      "len(ub):  8\n",
      "self.pen_fac:  7.0\n",
      "\n",
      "------------------------- OpenOpt 0.5629 -------------------------\n",
      "problem: unnamed   type: GLP    goal: minimum\n",
      "solver: de\n",
      "variables: 8\n",
      "  iter  objFunVal  \n",
      "    0  1.116e+01 \n",
      "   10  4.308e+00 \n",
      "   20  3.876e+00 \n",
      "   30  3.643e+00 \n",
      "   40  3.547e+00 \n",
      "   50  3.319e+00 \n",
      "   60  3.319e+00 \n",
      "   70  3.319e+00 \n",
      "   80  3.303e+00 \n",
      "   90  3.303e+00 \n",
      "  100  3.122e+00 \n",
      "  110  2.937e+00 \n",
      "  120  2.937e+00 \n",
      "  130  2.937e+00 \n",
      "  140  2.802e+00 \n",
      "  150  2.802e+00 \n",
      "  160  2.795e+00 \n",
      "  170  2.795e+00 \n",
      "  180  2.789e+00 \n",
      "  190  2.789e+00 \n",
      "  200  2.789e+00 \n",
      "  210  2.789e+00 \n",
      "istop: 11 (Non-Success Number > maxNonSuccess = 30)\n",
      "Solver:   Time Elapsed = 20.7  \tCPU Time Elapsed = 20.6\n",
      "objFuncValue: 2.7886444 (feasible, MaxResidual = 0)\n",
      "Solving for lfp part of signal\n",
      "len(ub):  8\n",
      "self.pen_fac:  7.5\n",
      "\n",
      "------------------------- OpenOpt 0.5629 -------------------------\n",
      "problem: unnamed   type: GLP    goal: minimum\n",
      "solver: de\n",
      "variables: 8\n",
      "  iter  objFunVal  \n",
      "    0  1.194e+01 \n",
      "   10  4.596e+00 \n",
      "   20  4.129e+00 \n",
      "   30  3.878e+00 \n",
      "   40  3.776e+00 \n",
      "   50  3.535e+00 \n",
      "   60  3.535e+00 \n",
      "   70  3.427e+00 \n",
      "   80  3.427e+00 \n",
      "   90  3.221e+00 \n",
      "  100  3.221e+00 \n",
      "  110  3.221e+00 \n",
      "  120  3.221e+00 \n",
      "istop: 11 (Non-Success Number > maxNonSuccess = 30)\n",
      "Solver:   Time Elapsed = 11.8  \tCPU Time Elapsed = 11.8\n",
      "objFuncValue: 3.2211912 (feasible, MaxResidual = 0)\n",
      "Solving for lfp part of signal\n",
      "len(ub):  8\n",
      "self.pen_fac:  8.0\n",
      "\n",
      "------------------------- OpenOpt 0.5629 -------------------------\n",
      "problem: unnamed   type: GLP    goal: minimum\n",
      "solver: de\n",
      "variables: 8\n",
      "  iter  objFunVal  \n",
      "    0  1.271e+01 \n",
      "   10  4.884e+00 \n",
      "   20  4.381e+00 \n",
      "   30  4.113e+00 \n",
      "   40  4.004e+00 \n",
      "   50  3.751e+00 \n",
      "   60  3.751e+00 \n",
      "   70  3.632e+00 \n",
      "   80  3.632e+00 \n",
      "   90  3.412e+00 \n",
      "  100  3.412e+00 \n",
      "  110  3.412e+00 \n",
      "  120  3.412e+00 \n",
      "istop: 11 (Non-Success Number > maxNonSuccess = 30)\n",
      "Solver:   Time Elapsed = 11.8  \tCPU Time Elapsed = 11.8\n",
      "objFuncValue: 3.4122612 (feasible, MaxResidual = 0)\n",
      "Solving for lfp part of signal\n",
      "len(ub):  8\n",
      "self.pen_fac:  8.5\n",
      "\n",
      "------------------------- OpenOpt 0.5629 -------------------------\n",
      "problem: unnamed   type: GLP    goal: minimum\n",
      "solver: de\n",
      "variables: 8\n",
      "  iter  objFunVal  \n",
      "    0  1.349e+01 \n",
      "   10  5.172e+00 \n",
      "   20  4.634e+00 \n",
      "   30  4.348e+00 \n",
      "   40  4.232e+00 \n",
      "   50  3.966e+00 \n",
      "   60  3.966e+00 \n",
      "   70  3.838e+00 \n",
      "   80  3.838e+00 \n",
      "   90  3.603e+00 \n",
      "  100  3.603e+00 \n",
      "  110  3.603e+00 \n",
      "  120  3.603e+00 \n",
      "istop: 11 (Non-Success Number > maxNonSuccess = 30)\n",
      "Solver:   Time Elapsed = 11.8  \tCPU Time Elapsed = 11.8\n",
      "objFuncValue: 3.6033312 (feasible, MaxResidual = 0)\n",
      "Solving for lfp part of signal\n",
      "len(ub):  8\n",
      "self.pen_fac:  9.0\n",
      "\n",
      "------------------------- OpenOpt 0.5629 -------------------------\n",
      "problem: unnamed   type: GLP    goal: minimum\n",
      "solver: de\n",
      "variables: 8\n",
      "  iter  objFunVal  \n",
      "    0  1.427e+01 \n",
      "   10  5.460e+00 \n",
      "   20  4.887e+00 \n",
      "   30  4.583e+00 \n",
      "   40  4.461e+00 \n",
      "   50  4.182e+00 \n",
      "   60  4.182e+00 \n",
      "   70  4.043e+00 \n",
      "   80  4.043e+00 \n",
      "   90  3.829e+00 \n",
      "  100  3.829e+00 \n",
      "  110  3.829e+00 \n",
      "  120  3.829e+00 \n",
      "  128  3.829e+00 \n",
      "istop: 11 (Non-Success Number > maxNonSuccess = 30)\n",
      "Solver:   Time Elapsed = 12.6  \tCPU Time Elapsed = 12.6\n",
      "objFuncValue: 3.8289897 (feasible, MaxResidual = 0)\n",
      "Solving for lfp part of signal\n",
      "len(ub):  8\n",
      "self.pen_fac:  9.5\n",
      "\n",
      "------------------------- OpenOpt 0.5629 -------------------------\n",
      "problem: unnamed   type: GLP    goal: minimum\n",
      "solver: de\n",
      "variables: 8\n",
      "  iter  objFunVal  \n",
      "    0  1.505e+01 \n",
      "   10  5.748e+00 \n",
      "   20  5.140e+00 \n",
      "   30  4.818e+00 \n",
      "   40  4.689e+00 \n",
      "   50  4.398e+00 \n",
      "   60  4.398e+00 \n",
      "   70  4.249e+00 \n",
      "   80  4.249e+00 \n",
      "   90  4.022e+00 \n",
      "  100  4.022e+00 \n",
      "  110  4.022e+00 \n",
      "  120  4.022e+00 \n",
      "  128  4.022e+00 \n",
      "istop: 11 (Non-Success Number > maxNonSuccess = 30)\n",
      "Solver:   Time Elapsed = 12.6  \tCPU Time Elapsed = 12.6\n",
      "objFuncValue: 4.0219428 (feasible, MaxResidual = 0)\n"
     ]
    }
   ],
   "source": [
    "# loading the underlying data matrix and define names\n",
    "#LOADNAME = 'testdata.mat'\n",
    "CASENAME = 'lfp_sim_w_LGN_input_and_v1v1_connects_modified'\n",
    "\n",
    "#DATA = loadmat(LOADNAME)\n",
    "SETNAME_MUA = 'mua'\n",
    "SETNAME_LFP = 'lfp'\n",
    "\n",
    "nstim = 2\n",
    "LFP = np.zeros((nstim, ntime, nchan))\n",
    "CSD = np.zeros((nstim, ntime, nchan))\n",
    "print(CSD.shape)\n",
    "for istim in range(CSD.shape[0]):\n",
    "    LFP[istim] = lfp_for_lpa[istim].T\n",
    "    CSD[istim] = csd_for_lpa[istim].T\n",
    "    #CSD[istim] = csd_sum_gt[istim].T\n",
    "MUA = np.zeros_like(CSD)#MUA[:,t_start:t_stop]\n",
    "\n",
    "###################################################################\n",
    "# initializing the LPA_signal\n",
    "\n",
    "nstim, ntime, nchan = CSD.shape\n",
    "\n",
    "z_start = 0.   # depth of first electrode in mm\n",
    "z_space = 0.04  # electrode spacing in mm\n",
    "\n",
    "S_dict = {\n",
    "    'mua_data' : MUA,\n",
    "    'lfp_data' : CSD,\n",
    "    'dt' : 1,\n",
    "    'z_start' : z_start,\n",
    "    'z_space' : z_space,\n",
    "    'casename' : CASENAME,\n",
    "    'tstim' : baseline_end,\n",
    "    'sub_at' : 'base', # \n",
    "    'verbose' : True\n",
    "    }\n",
    "\n",
    "lpa_signal = LPA_Signal(**S_dict)\n",
    "\n",
    "####################################################################\n",
    "# Initial guess\n",
    "\n",
    "#npop_guess = 4\n",
    "\n",
    "#pos_pops = np.zeros(3*npop)\n",
    "\n",
    "#x0 = np.zeros(12)\n",
    "#x0[:npop] = [0.4, 0.7, 0.95, 1.4] # Lateral position of populations (mm)\n",
    "#x0[npop:2*npop] = [0.1, 0.1, 0.1, 0.1] # Width of populations\n",
    "#x0[2*npop:] = [0.1, 0.1, 0.1, 0.1] # Slope of populations\n",
    "\n",
    "####################################################################\n",
    "# set up arguments for solving\n",
    "\n",
    "maxpos = z_start + (nchan - 1) * z_space\n",
    "maxpopwidth = 0.7\n",
    "maxslopewidth = z_space\n",
    "\n",
    "# lower bounds\n",
    "lb = npop_guess * [z_start]# + 2 * npop_guess * [0]\n",
    "print('lb = ', lb)\n",
    "# upper bounds\n",
    "ub = npop_guess * [maxpos] + npop_guess * [maxpopwidth] # + npop_guess * [maxslopewidth]\n",
    "print('ub = ', ub)\n",
    "\n",
    "# put any arguments passed to the initialization of the solver here,\n",
    "# see documentation for openopt.NLP for details.\n",
    "init_args = {\n",
    "     'maxIter' : 10000,\n",
    "     'maxFunEvals' : 20000,\n",
    "     'maxTime' : 600,\n",
    "     'maxCPUTime' : 1000,\n",
    "     'maxNonSuccess' : 30\n",
    "    }\n",
    "\n",
    "# There are also some additional arguments that could be passed to the\n",
    "# call function of the solver, but most of this will be handled inside\n",
    "# the call function for lpa_signal (like *x0* and *plot*)\n",
    "solve_args = {}\n",
    "\n",
    "# If you subclassed LPA_Signal() and wrote your own error function\n",
    "# that needs additional arguments, you can put it in the *f_args*\n",
    "# tuple. Remember that the first argument to the error function is\n",
    "# always the parameters to be fitted, but this is handled under the\n",
    "# hood. Only additional (only positional) arguments goes into *f_args*\n",
    "f_args = ()\n",
    "\n",
    "#############################################################\n",
    "# Load results from example1_mua.py\n",
    "\n",
    "# rmat and MPhi does not belong in lpa_signal, just put it there for\n",
    "# safekeeping.\n",
    "#rmat = lpa_signal.rmat\n",
    "#Mphi = lpa_signal.Mphi\n",
    "#del lpa_signal.rmat\n",
    "#del lpa_signal.Mphi\n",
    "\n",
    "\n",
    "###########################################################\n",
    "# Set up arguments for solving lfp\n",
    "\n",
    "use_model_fir_rates = True\n",
    "include_lgn = True\n",
    "if use_model_fir_rates:\n",
    "    if include_lgn:\n",
    "        print('Here')\n",
    "        rmat = rmat_model_w_lgn_fb#[:1]\n",
    "        lgn_string = 'w_lgn_and_fb'\n",
    "    else:\n",
    "        rmat = np.zeros((1,) + np.array(list(fir_rate_all_stim_trial_avg.values())).T.shape)\n",
    "        rmat[0] = np.array(list(fir_rate_all_stim_trial_avg.values())).T\n",
    "        lgn_string = 'wo_lgn'\n",
    "    fir_rate_decomp_string = 'decomp_w_mod_fir_rates'\n",
    "else:\n",
    "    if include_lgn:\n",
    "        rmat = rmat_lpa_w_lgn_fb\n",
    "        lgn_string = 'w_lgn_and_fb'\n",
    "    else:\n",
    "        rmat = rmat_lpa\n",
    "        lgn_string = 'wo_lgn'\n",
    "    fir_rate_decomp_string = 'decomp_w_lpa_fir_rates'\n",
    "        \n",
    "if subtract_baseline:\n",
    "    for istim in range(rmat.shape[0]):\n",
    "        rmat[istim] = rmat[istim] - np.mean(rmat[istim,:baseline_end], axis = 0)\n",
    "        \n",
    "if rmat.shape[-1] > 3:\n",
    "    fir_rate_decomp_string = fir_rate_decomp_string + '_w_bkg'\n",
    "        \n",
    "        \n",
    "#for \n",
    "kernel = 'uniqueKernelsExp'\n",
    "#kernel = 'singleExp'\n",
    "\n",
    "for ipop in range(rmat.shape[-1]):\n",
    "    if ipop == 0:\n",
    "        t_kernelParams = [5,5]#,1]\n",
    "        lb = [4,0]#,1E-3]\n",
    "        ub = [20,10]#,10]\n",
    "    else:\n",
    "        t_kernelParams = np.concatenate([t_kernelParams, [5,5]])#1]])\n",
    "        lb = np.concatenate([lb, [4,0]])#,1E-3]])\n",
    "        ub = np.concatenate([ub, [20,10]])#,10]])\n",
    "    \n",
    "# these dicts are explained in example1_mua.py\n",
    "#init_args = {}\n",
    "solve_args = {}      \n",
    "    \n",
    "#if np.logical_and(subtract_baseline or baseline_presubtracted_lfp, use_model_fir_rates):\n",
    "#    for ipop in range(rmat.shape[-1]):\n",
    "#        for istim in range(rmat.shape[0]):\n",
    "#            rmat[istim] -= np.mean(rmat[istim,:baseline_end_fir_rates,ipop])\n",
    "\n",
    "f_args = (rmat, kernel)\n",
    "###############################################################\n",
    "# Solve lfp\n",
    "print('init_args: ', init_args)\n",
    "solve_dict = {\n",
    "    'init_args' : init_args,\n",
    "    'solve_args' : solve_args,\n",
    "    'f_args' : f_args,\n",
    "    'plot' : False,\n",
    "    }\n",
    "\n",
    "mode = 'lfp'\n",
    "solver = 'de'\n",
    "\n",
    "pen_fac_dev_from_0 = 0\n",
    "\n",
    "err_wo_pen_dict = dict()\n",
    "Cmat_lpa_dict = dict()\n",
    "Rmat_lpa_dict = dict()\n",
    "Cphi_lpa_dict = dict()\n",
    "h_list_dict = dict()\n",
    "tau_lpa_dict = dict()\n",
    "delta_lpa_dict = dict()\n",
    "\n",
    "\n",
    "# loop through each penalty factor term\n",
    "for pen_fac_dev_from_0 in np.arange(0, 10, 0.5):\n",
    "\n",
    "    r_lpa_LFP, Cmat_lpa, Rmat_lpa, Cphi_lpa, h_list, err_wo_pen, tau, delta = lpa_signal(mode, solver, t_kernelParams, lb, ub, pen_fac = pen_fac_dev_from_0, **solve_dict)\n",
    "\n",
    "    err_wo_pen_dict[pen_fac_dev_from_0] = err_wo_pen\n",
    "\n",
    "\n",
    "    Cmat_lpa_dict[pen_fac_dev_from_0] = Cmat_lpa\n",
    "    Rmat_lpa_dict[pen_fac_dev_from_0] = Rmat_lpa\n",
    "    Cphi_lpa_dict[pen_fac_dev_from_0] = Cphi_lpa\n",
    "    h_list_dict[pen_fac_dev_from_0] = h_list\n",
    "    tau_lpa_dict[pen_fac_dev_from_0] = tau\n",
    "    delta_lpa_dict[pen_fac_dev_from_0] = delta"
   ]
  },
  {
   "cell_type": "code",
   "execution_count": null,
   "metadata": {},
   "outputs": [],
   "source": []
  },
  {
   "cell_type": "markdown",
   "metadata": {},
   "source": [
    "### Save results from LPA application to CSD"
   ]
  },
  {
   "cell_type": "code",
   "execution_count": 74,
   "metadata": {},
   "outputs": [],
   "source": [
    "lpa_results = dict()\n",
    "\n",
    "# LPA-estimated CSD\n",
    "lpa_results['Cphi'] = Cphi_lpa_dict\n",
    "\n",
    "# Est. temporal profiles of postsynaptic LFP\n",
    "lpa_results['Rmat'] = Rmat_lpa_dict\n",
    "\n",
    "# Est. spatial profiles of laminar populations\n",
    "lpa_results['Cmat'] = Cmat_lpa_dict\n",
    "\n",
    "# MSE of estimate without penalty term\n",
    "lpa_results['err_wo_pen'] = err_wo_pen_dict\n",
    "\n",
    "# time constant for optimized kernels\n",
    "lpa_results['tau'] = tau_lpa_dict\n",
    "\n",
    "# delay for optimized kernels\n",
    "lpa_results['delta'] = delta_lpa_dict\n",
    "\n",
    "# list of penalty factors utilized\n",
    "lpa_results['penalty_factor'] = np.array(list(Cmat_lpa_dict.keys()))"
   ]
  },
  {
   "cell_type": "code",
   "execution_count": null,
   "metadata": {},
   "outputs": [],
   "source": []
  },
  {
   "cell_type": "code",
   "execution_count": 77,
   "metadata": {},
   "outputs": [],
   "source": [
    "savepath = '../make_figures_article/lpa_results_data/test_notebooks'\n",
    "\n",
    "if not os.path.exists(savepath):\n",
    "    os.mkdir(savepath)\n",
    "\n",
    "filename = 'CSD_lpa_results_applied_to_full_model_sim_w_'+str(npop_guess)+'_pop.npy'\n",
    "\n",
    "savepath = os.path.join(savepath,filename)\n",
    "\n",
    "#np.save(savepath, lpa_results)"
   ]
  },
  {
   "cell_type": "code",
   "execution_count": null,
   "metadata": {},
   "outputs": [],
   "source": []
  }
 ],
 "metadata": {
  "kernelspec": {
   "display_name": "Python 3",
   "language": "python",
   "name": "python3"
  },
  "language_info": {
   "codemirror_mode": {
    "name": "ipython",
    "version": 3
   },
   "file_extension": ".py",
   "mimetype": "text/x-python",
   "name": "python",
   "nbconvert_exporter": "python",
   "pygments_lexer": "ipython3",
   "version": "3.7.6"
  }
 },
 "nbformat": 4,
 "nbformat_minor": 4
}
